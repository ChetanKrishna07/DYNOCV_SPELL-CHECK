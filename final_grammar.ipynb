{
  "nbformat": 4,
  "nbformat_minor": 0,
  "metadata": {
    "colab": {
      "name": "final_grammar.ipynb",
      "provenance": [],
      "authorship_tag": "ABX9TyO9HTrJeIL/dFSg4Z44ug0G",
      "include_colab_link": true
    },
    "kernelspec": {
      "name": "python3",
      "display_name": "Python 3"
    },
    "language_info": {
      "name": "python"
    }
  },
  "cells": [
    {
      "cell_type": "markdown",
      "metadata": {
        "id": "view-in-github",
        "colab_type": "text"
      },
      "source": [
        "<a href=\"https://colab.research.google.com/github/sai-harshita/DYNOCV_SPELL-CHECK/blob/main/final_grammar.ipynb\" target=\"_parent\"><img src=\"https://colab.research.google.com/assets/colab-badge.svg\" alt=\"Open In Colab\"/></a>"
      ]
    },
    {
      "cell_type": "code",
      "execution_count": 5,
      "metadata": {
        "colab": {
          "base_uri": "https://localhost:8080/"
        },
        "id": "JeUr9vwj3WCB",
        "outputId": "20771937-cffe-4349-c030-ff5f47af0c8f"
      },
      "outputs": [
        {
          "output_type": "stream",
          "name": "stdout",
          "text": [
            "Requirement already satisfied: GingerIt in /usr/local/lib/python3.7/dist-packages (0.8.2)\n",
            "Requirement already satisfied: requests<3.0.0,>=2.25.1 in /usr/local/lib/python3.7/dist-packages (from GingerIt) (2.27.1)\n",
            "Requirement already satisfied: certifi>=2017.4.17 in /usr/local/lib/python3.7/dist-packages (from requests<3.0.0,>=2.25.1->GingerIt) (2021.10.8)\n",
            "Requirement already satisfied: urllib3<1.27,>=1.21.1 in /usr/local/lib/python3.7/dist-packages (from requests<3.0.0,>=2.25.1->GingerIt) (1.24.3)\n",
            "Requirement already satisfied: idna<4,>=2.5 in /usr/local/lib/python3.7/dist-packages (from requests<3.0.0,>=2.25.1->GingerIt) (2.10)\n",
            "Requirement already satisfied: charset-normalizer~=2.0.0 in /usr/local/lib/python3.7/dist-packages (from requests<3.0.0,>=2.25.1->GingerIt) (2.0.10)\n"
          ]
        }
      ],
      "source": [
        "!pip install GingerIt\n",
        "from gingerit.gingerit import GingerIt\n"
      ]
    },
    {
      "cell_type": "code",
      "source": [
        "text = input(\"Enter a sentence >>: \")\n",
        "corrected_text = GingerIt().parse(text)\n",
        "print(corrected_text['result'])"
      ],
      "metadata": {
        "colab": {
          "base_uri": "https://localhost:8080/"
        },
        "id": "JyI3zpqg3Z_B",
        "outputId": "bd9f6bca-1fc6-4fe8-f043-3985ed94377c"
      },
      "execution_count": 6,
      "outputs": [
        {
          "output_type": "stream",
          "name": "stdout",
          "text": [
            "Enter a sentence >>: i sings well\n",
            "I sing well\n"
          ]
        }
      ]
    },
    {
      "cell_type": "code",
      "source": [
        "!pip install gradio"
      ],
      "metadata": {
        "colab": {
          "base_uri": "https://localhost:8080/"
        },
        "id": "sifqoQqm7YNc",
        "outputId": "1e4c2ad0-c17d-43f9-f28c-5329b414716b"
      },
      "execution_count": 7,
      "outputs": [
        {
          "output_type": "stream",
          "name": "stdout",
          "text": [
            "Collecting gradio\n",
            "  Downloading gradio-2.7.5.1-py3-none-any.whl (871 kB)\n",
            "\u001b[?25l\r\u001b[K     |▍                               | 10 kB 30.3 MB/s eta 0:00:01\r\u001b[K     |▊                               | 20 kB 38.5 MB/s eta 0:00:01\r\u001b[K     |█▏                              | 30 kB 38.2 MB/s eta 0:00:01\r\u001b[K     |█▌                              | 40 kB 31.5 MB/s eta 0:00:01\r\u001b[K     |█▉                              | 51 kB 17.8 MB/s eta 0:00:01\r\u001b[K     |██▎                             | 61 kB 18.7 MB/s eta 0:00:01\r\u001b[K     |██▋                             | 71 kB 14.0 MB/s eta 0:00:01\r\u001b[K     |███                             | 81 kB 15.5 MB/s eta 0:00:01\r\u001b[K     |███▍                            | 92 kB 17.1 MB/s eta 0:00:01\r\u001b[K     |███▊                            | 102 kB 13.9 MB/s eta 0:00:01\r\u001b[K     |████▏                           | 112 kB 13.9 MB/s eta 0:00:01\r\u001b[K     |████▌                           | 122 kB 13.9 MB/s eta 0:00:01\r\u001b[K     |████▉                           | 133 kB 13.9 MB/s eta 0:00:01\r\u001b[K     |█████▎                          | 143 kB 13.9 MB/s eta 0:00:01\r\u001b[K     |█████▋                          | 153 kB 13.9 MB/s eta 0:00:01\r\u001b[K     |██████                          | 163 kB 13.9 MB/s eta 0:00:01\r\u001b[K     |██████▍                         | 174 kB 13.9 MB/s eta 0:00:01\r\u001b[K     |██████▊                         | 184 kB 13.9 MB/s eta 0:00:01\r\u001b[K     |███████▏                        | 194 kB 13.9 MB/s eta 0:00:01\r\u001b[K     |███████▌                        | 204 kB 13.9 MB/s eta 0:00:01\r\u001b[K     |████████                        | 215 kB 13.9 MB/s eta 0:00:01\r\u001b[K     |████████▎                       | 225 kB 13.9 MB/s eta 0:00:01\r\u001b[K     |████████▋                       | 235 kB 13.9 MB/s eta 0:00:01\r\u001b[K     |█████████                       | 245 kB 13.9 MB/s eta 0:00:01\r\u001b[K     |█████████▍                      | 256 kB 13.9 MB/s eta 0:00:01\r\u001b[K     |█████████▊                      | 266 kB 13.9 MB/s eta 0:00:01\r\u001b[K     |██████████▏                     | 276 kB 13.9 MB/s eta 0:00:01\r\u001b[K     |██████████▌                     | 286 kB 13.9 MB/s eta 0:00:01\r\u001b[K     |███████████                     | 296 kB 13.9 MB/s eta 0:00:01\r\u001b[K     |███████████▎                    | 307 kB 13.9 MB/s eta 0:00:01\r\u001b[K     |███████████▋                    | 317 kB 13.9 MB/s eta 0:00:01\r\u001b[K     |████████████                    | 327 kB 13.9 MB/s eta 0:00:01\r\u001b[K     |████████████▍                   | 337 kB 13.9 MB/s eta 0:00:01\r\u001b[K     |████████████▉                   | 348 kB 13.9 MB/s eta 0:00:01\r\u001b[K     |█████████████▏                  | 358 kB 13.9 MB/s eta 0:00:01\r\u001b[K     |█████████████▌                  | 368 kB 13.9 MB/s eta 0:00:01\r\u001b[K     |██████████████                  | 378 kB 13.9 MB/s eta 0:00:01\r\u001b[K     |██████████████▎                 | 389 kB 13.9 MB/s eta 0:00:01\r\u001b[K     |██████████████▋                 | 399 kB 13.9 MB/s eta 0:00:01\r\u001b[K     |███████████████                 | 409 kB 13.9 MB/s eta 0:00:01\r\u001b[K     |███████████████▍                | 419 kB 13.9 MB/s eta 0:00:01\r\u001b[K     |███████████████▉                | 430 kB 13.9 MB/s eta 0:00:01\r\u001b[K     |████████████████▏               | 440 kB 13.9 MB/s eta 0:00:01\r\u001b[K     |████████████████▌               | 450 kB 13.9 MB/s eta 0:00:01\r\u001b[K     |█████████████████               | 460 kB 13.9 MB/s eta 0:00:01\r\u001b[K     |█████████████████▎              | 471 kB 13.9 MB/s eta 0:00:01\r\u001b[K     |█████████████████▋              | 481 kB 13.9 MB/s eta 0:00:01\r\u001b[K     |██████████████████              | 491 kB 13.9 MB/s eta 0:00:01\r\u001b[K     |██████████████████▍             | 501 kB 13.9 MB/s eta 0:00:01\r\u001b[K     |██████████████████▉             | 512 kB 13.9 MB/s eta 0:00:01\r\u001b[K     |███████████████████▏            | 522 kB 13.9 MB/s eta 0:00:01\r\u001b[K     |███████████████████▌            | 532 kB 13.9 MB/s eta 0:00:01\r\u001b[K     |████████████████████            | 542 kB 13.9 MB/s eta 0:00:01\r\u001b[K     |████████████████████▎           | 552 kB 13.9 MB/s eta 0:00:01\r\u001b[K     |████████████████████▊           | 563 kB 13.9 MB/s eta 0:00:01\r\u001b[K     |█████████████████████           | 573 kB 13.9 MB/s eta 0:00:01\r\u001b[K     |█████████████████████▍          | 583 kB 13.9 MB/s eta 0:00:01\r\u001b[K     |█████████████████████▉          | 593 kB 13.9 MB/s eta 0:00:01\r\u001b[K     |██████████████████████▏         | 604 kB 13.9 MB/s eta 0:00:01\r\u001b[K     |██████████████████████▌         | 614 kB 13.9 MB/s eta 0:00:01\r\u001b[K     |███████████████████████         | 624 kB 13.9 MB/s eta 0:00:01\r\u001b[K     |███████████████████████▎        | 634 kB 13.9 MB/s eta 0:00:01\r\u001b[K     |███████████████████████▊        | 645 kB 13.9 MB/s eta 0:00:01\r\u001b[K     |████████████████████████        | 655 kB 13.9 MB/s eta 0:00:01\r\u001b[K     |████████████████████████▍       | 665 kB 13.9 MB/s eta 0:00:01\r\u001b[K     |████████████████████████▉       | 675 kB 13.9 MB/s eta 0:00:01\r\u001b[K     |█████████████████████████▏      | 686 kB 13.9 MB/s eta 0:00:01\r\u001b[K     |█████████████████████████▋      | 696 kB 13.9 MB/s eta 0:00:01\r\u001b[K     |██████████████████████████      | 706 kB 13.9 MB/s eta 0:00:01\r\u001b[K     |██████████████████████████▎     | 716 kB 13.9 MB/s eta 0:00:01\r\u001b[K     |██████████████████████████▊     | 727 kB 13.9 MB/s eta 0:00:01\r\u001b[K     |███████████████████████████     | 737 kB 13.9 MB/s eta 0:00:01\r\u001b[K     |███████████████████████████▍    | 747 kB 13.9 MB/s eta 0:00:01\r\u001b[K     |███████████████████████████▉    | 757 kB 13.9 MB/s eta 0:00:01\r\u001b[K     |████████████████████████████▏   | 768 kB 13.9 MB/s eta 0:00:01\r\u001b[K     |████████████████████████████▋   | 778 kB 13.9 MB/s eta 0:00:01\r\u001b[K     |█████████████████████████████   | 788 kB 13.9 MB/s eta 0:00:01\r\u001b[K     |█████████████████████████████▎  | 798 kB 13.9 MB/s eta 0:00:01\r\u001b[K     |█████████████████████████████▊  | 808 kB 13.9 MB/s eta 0:00:01\r\u001b[K     |██████████████████████████████  | 819 kB 13.9 MB/s eta 0:00:01\r\u001b[K     |██████████████████████████████▍ | 829 kB 13.9 MB/s eta 0:00:01\r\u001b[K     |██████████████████████████████▉ | 839 kB 13.9 MB/s eta 0:00:01\r\u001b[K     |███████████████████████████████▏| 849 kB 13.9 MB/s eta 0:00:01\r\u001b[K     |███████████████████████████████▋| 860 kB 13.9 MB/s eta 0:00:01\r\u001b[K     |████████████████████████████████| 870 kB 13.9 MB/s eta 0:00:01\r\u001b[K     |████████████████████████████████| 871 kB 13.9 MB/s \n",
            "\u001b[?25hCollecting pydub\n",
            "  Downloading pydub-0.25.1-py2.py3-none-any.whl (32 kB)\n",
            "Requirement already satisfied: matplotlib in /usr/local/lib/python3.7/dist-packages (from gradio) (3.2.2)\n",
            "Requirement already satisfied: pandas in /usr/local/lib/python3.7/dist-packages (from gradio) (1.1.5)\n",
            "Collecting pycryptodome\n",
            "  Downloading pycryptodome-3.12.0-cp35-abi3-manylinux2010_x86_64.whl (2.0 MB)\n",
            "\u001b[K     |████████████████████████████████| 2.0 MB 58.1 MB/s \n",
            "\u001b[?25hRequirement already satisfied: requests in /usr/local/lib/python3.7/dist-packages (from gradio) (2.27.1)\n",
            "Collecting fastapi\n",
            "  Downloading fastapi-0.72.0-py3-none-any.whl (52 kB)\n",
            "\u001b[K     |████████████████████████████████| 52 kB 757 kB/s \n",
            "\u001b[?25hCollecting ffmpy\n",
            "  Downloading ffmpy-0.3.0.tar.gz (4.8 kB)\n",
            "Collecting aiohttp\n",
            "  Downloading aiohttp-3.8.1-cp37-cp37m-manylinux_2_5_x86_64.manylinux1_x86_64.manylinux_2_12_x86_64.manylinux2010_x86_64.whl (1.1 MB)\n",
            "\u001b[K     |████████████████████████████████| 1.1 MB 70.1 MB/s \n",
            "\u001b[?25hCollecting uvicorn\n",
            "  Downloading uvicorn-0.17.0-py3-none-any.whl (54 kB)\n",
            "\u001b[K     |████████████████████████████████| 54 kB 2.9 MB/s \n",
            "\u001b[?25hCollecting paramiko\n",
            "  Downloading paramiko-2.9.2-py2.py3-none-any.whl (210 kB)\n",
            "\u001b[K     |████████████████████████████████| 210 kB 74.2 MB/s \n",
            "\u001b[?25hCollecting analytics-python\n",
            "  Downloading analytics_python-1.4.0-py2.py3-none-any.whl (15 kB)\n",
            "Collecting python-multipart\n",
            "  Downloading python-multipart-0.0.5.tar.gz (32 kB)\n",
            "Requirement already satisfied: pillow in /usr/local/lib/python3.7/dist-packages (from gradio) (7.1.2)\n",
            "Collecting markdown2\n",
            "  Downloading markdown2-2.4.2-py2.py3-none-any.whl (34 kB)\n",
            "Requirement already satisfied: numpy in /usr/local/lib/python3.7/dist-packages (from gradio) (1.19.5)\n",
            "Collecting async-timeout<5.0,>=4.0.0a3\n",
            "  Downloading async_timeout-4.0.2-py3-none-any.whl (5.8 kB)\n",
            "Collecting frozenlist>=1.1.1\n",
            "  Downloading frozenlist-1.3.0-cp37-cp37m-manylinux_2_5_x86_64.manylinux1_x86_64.manylinux_2_17_x86_64.manylinux2014_x86_64.whl (144 kB)\n",
            "\u001b[K     |████████████████████████████████| 144 kB 66.3 MB/s \n",
            "\u001b[?25hRequirement already satisfied: attrs>=17.3.0 in /usr/local/lib/python3.7/dist-packages (from aiohttp->gradio) (21.4.0)\n",
            "Requirement already satisfied: typing-extensions>=3.7.4 in /usr/local/lib/python3.7/dist-packages (from aiohttp->gradio) (3.10.0.2)\n",
            "Collecting yarl<2.0,>=1.0\n",
            "  Downloading yarl-1.7.2-cp37-cp37m-manylinux_2_5_x86_64.manylinux1_x86_64.manylinux_2_12_x86_64.manylinux2010_x86_64.whl (271 kB)\n",
            "\u001b[K     |████████████████████████████████| 271 kB 98.7 MB/s \n",
            "\u001b[?25hCollecting asynctest==0.13.0\n",
            "  Downloading asynctest-0.13.0-py3-none-any.whl (26 kB)\n",
            "Collecting aiosignal>=1.1.2\n",
            "  Downloading aiosignal-1.2.0-py3-none-any.whl (8.2 kB)\n",
            "Requirement already satisfied: charset-normalizer<3.0,>=2.0 in /usr/local/lib/python3.7/dist-packages (from aiohttp->gradio) (2.0.10)\n",
            "Collecting multidict<7.0,>=4.5\n",
            "  Downloading multidict-5.2.0-cp37-cp37m-manylinux_2_5_x86_64.manylinux1_x86_64.manylinux_2_12_x86_64.manylinux2010_x86_64.whl (160 kB)\n",
            "\u001b[K     |████████████████████████████████| 160 kB 68.9 MB/s \n",
            "\u001b[?25hRequirement already satisfied: idna>=2.0 in /usr/local/lib/python3.7/dist-packages (from yarl<2.0,>=1.0->aiohttp->gradio) (2.10)\n",
            "Requirement already satisfied: python-dateutil>2.1 in /usr/local/lib/python3.7/dist-packages (from analytics-python->gradio) (2.8.2)\n",
            "Requirement already satisfied: six>=1.5 in /usr/local/lib/python3.7/dist-packages (from analytics-python->gradio) (1.15.0)\n",
            "Collecting backoff==1.10.0\n",
            "  Downloading backoff-1.10.0-py2.py3-none-any.whl (31 kB)\n",
            "Collecting monotonic>=1.5\n",
            "  Downloading monotonic-1.6-py2.py3-none-any.whl (8.2 kB)\n",
            "Requirement already satisfied: certifi>=2017.4.17 in /usr/local/lib/python3.7/dist-packages (from requests->gradio) (2021.10.8)\n",
            "Requirement already satisfied: urllib3<1.27,>=1.21.1 in /usr/local/lib/python3.7/dist-packages (from requests->gradio) (1.24.3)\n",
            "Collecting starlette==0.17.1\n",
            "  Downloading starlette-0.17.1-py3-none-any.whl (58 kB)\n",
            "\u001b[K     |████████████████████████████████| 58 kB 5.2 MB/s \n",
            "\u001b[?25hCollecting pydantic!=1.7,!=1.7.1,!=1.7.2,!=1.7.3,!=1.8,!=1.8.1,<2.0.0,>=1.6.2\n",
            "  Downloading pydantic-1.9.0-cp37-cp37m-manylinux_2_17_x86_64.manylinux2014_x86_64.whl (10.9 MB)\n",
            "\u001b[K     |████████████████████████████████| 10.9 MB 52.5 MB/s \n",
            "\u001b[?25hCollecting anyio<4,>=3.0.0\n",
            "  Downloading anyio-3.5.0-py3-none-any.whl (79 kB)\n",
            "\u001b[K     |████████████████████████████████| 79 kB 6.6 MB/s \n",
            "\u001b[?25hCollecting sniffio>=1.1\n",
            "  Downloading sniffio-1.2.0-py3-none-any.whl (10 kB)\n",
            "Requirement already satisfied: pyparsing!=2.0.4,!=2.1.2,!=2.1.6,>=2.0.1 in /usr/local/lib/python3.7/dist-packages (from matplotlib->gradio) (3.0.6)\n",
            "Requirement already satisfied: cycler>=0.10 in /usr/local/lib/python3.7/dist-packages (from matplotlib->gradio) (0.11.0)\n",
            "Requirement already satisfied: kiwisolver>=1.0.1 in /usr/local/lib/python3.7/dist-packages (from matplotlib->gradio) (1.3.2)\n",
            "Requirement already satisfied: pytz>=2017.2 in /usr/local/lib/python3.7/dist-packages (from pandas->gradio) (2018.9)\n",
            "Collecting pynacl>=1.0.1\n",
            "  Downloading PyNaCl-1.5.0-cp36-abi3-manylinux_2_17_x86_64.manylinux2014_x86_64.manylinux_2_24_x86_64.whl (856 kB)\n",
            "\u001b[K     |████████████████████████████████| 856 kB 70.1 MB/s \n",
            "\u001b[?25hCollecting cryptography>=2.5\n",
            "  Downloading cryptography-36.0.1-cp36-abi3-manylinux_2_24_x86_64.whl (3.6 MB)\n",
            "\u001b[K     |████████████████████████████████| 3.6 MB 66.6 MB/s \n",
            "\u001b[?25hCollecting bcrypt>=3.1.3\n",
            "  Downloading bcrypt-3.2.0-cp36-abi3-manylinux_2_17_x86_64.manylinux2014_x86_64.manylinux_2_24_x86_64.whl (61 kB)\n",
            "\u001b[K     |████████████████████████████████| 61 kB 381 kB/s \n",
            "\u001b[?25hRequirement already satisfied: cffi>=1.1 in /usr/local/lib/python3.7/dist-packages (from bcrypt>=3.1.3->paramiko->gradio) (1.15.0)\n",
            "Requirement already satisfied: pycparser in /usr/local/lib/python3.7/dist-packages (from cffi>=1.1->bcrypt>=3.1.3->paramiko->gradio) (2.21)\n",
            "Collecting h11>=0.8\n",
            "  Downloading h11-0.13.0-py3-none-any.whl (58 kB)\n",
            "\u001b[K     |████████████████████████████████| 58 kB 4.5 MB/s \n",
            "\u001b[?25hRequirement already satisfied: click>=7.0 in /usr/local/lib/python3.7/dist-packages (from uvicorn->gradio) (7.1.2)\n",
            "Collecting asgiref>=3.4.0\n",
            "  Downloading asgiref-3.4.1-py3-none-any.whl (25 kB)\n",
            "Building wheels for collected packages: ffmpy, python-multipart\n",
            "  Building wheel for ffmpy (setup.py) ... \u001b[?25l\u001b[?25hdone\n",
            "  Created wheel for ffmpy: filename=ffmpy-0.3.0-py3-none-any.whl size=4712 sha256=a3611e0c7c94f52fc06f4fc1f621dc72d37dc16f2d4c2326f810e75fd9be6f46\n",
            "  Stored in directory: /root/.cache/pip/wheels/13/e4/6c/e8059816e86796a597c6e6b0d4c880630f51a1fcfa0befd5e6\n",
            "  Building wheel for python-multipart (setup.py) ... \u001b[?25l\u001b[?25hdone\n",
            "  Created wheel for python-multipart: filename=python_multipart-0.0.5-py3-none-any.whl size=31678 sha256=ce96ed6d793f31e880676cb8b6ee1c22d16655dfa8156079c982090c855c5c60\n",
            "  Stored in directory: /root/.cache/pip/wheels/2c/41/7c/bfd1c180534ffdcc0972f78c5758f89881602175d48a8bcd2c\n",
            "Successfully built ffmpy python-multipart\n",
            "Installing collected packages: sniffio, multidict, frozenlist, anyio, yarl, starlette, pynacl, pydantic, monotonic, h11, cryptography, bcrypt, backoff, asynctest, async-timeout, asgiref, aiosignal, uvicorn, python-multipart, pydub, pycryptodome, paramiko, markdown2, ffmpy, fastapi, analytics-python, aiohttp, gradio\n",
            "Successfully installed aiohttp-3.8.1 aiosignal-1.2.0 analytics-python-1.4.0 anyio-3.5.0 asgiref-3.4.1 async-timeout-4.0.2 asynctest-0.13.0 backoff-1.10.0 bcrypt-3.2.0 cryptography-36.0.1 fastapi-0.72.0 ffmpy-0.3.0 frozenlist-1.3.0 gradio-2.7.5.1 h11-0.13.0 markdown2-2.4.2 monotonic-1.6 multidict-5.2.0 paramiko-2.9.2 pycryptodome-3.12.0 pydantic-1.9.0 pydub-0.25.1 pynacl-1.5.0 python-multipart-0.0.5 sniffio-1.2.0 starlette-0.17.1 uvicorn-0.17.0 yarl-1.7.2\n"
          ]
        }
      ]
    },
    {
      "cell_type": "code",
      "source": [
        "import gradio as gr"
      ],
      "metadata": {
        "id": "AVzz5Rzx7gyt"
      },
      "execution_count": 8,
      "outputs": []
    },
    {
      "cell_type": "code",
      "source": [
        "def correct(sentence):\n",
        "    res = GingerIt().parse(sentence) # Gingerit correct\n",
        "    result=GingerIt().parse(sentence)['result']\n",
        "    return result"
      ],
      "metadata": {
        "id": "NiY9uj-w7g3q"
      },
      "execution_count": 30,
      "outputs": []
    },
    {
      "cell_type": "code",
      "source": [
        "correct('i likes dance')"
      ],
      "metadata": {
        "colab": {
          "base_uri": "https://localhost:8080/",
          "height": 35
        },
        "id": "YMamLRAH-2Hb",
        "outputId": "323d5a54-1e42-4690-8910-1da79002b764"
      },
      "execution_count": 31,
      "outputs": [
        {
          "output_type": "execute_result",
          "data": {
            "application/vnd.google.colaboratory.intrinsic+json": {
              "type": "string"
            },
            "text/plain": [
              "'I like dance'"
            ]
          },
          "metadata": {},
          "execution_count": 31
        }
      ]
    },
    {
      "cell_type": "code",
      "source": [
        "app_inputs = gr.inputs.Textbox(lines=3, placeholder=\"Enter sentence here...\")\n",
        "app_output = gr.inputs.Textbox(lines=3, placeholder=\"correct sentence here...\")"
      ],
      "metadata": {
        "id": "2VXu6ggM7g7C"
      },
      "execution_count": 42,
      "outputs": []
    },
    {
      "cell_type": "code",
      "source": [
        "interface = gr.Interface(fn=correct, \n",
        "                        inputs=app_inputs,\n",
        "                         outputs='text', \n",
        "                        title='DYNOCV Spell Check')"
      ],
      "metadata": {
        "id": "Zrryk0_t7hCy"
      },
      "execution_count": 43,
      "outputs": []
    },
    {
      "cell_type": "code",
      "source": [
        "interface.launch()"
      ],
      "metadata": {
        "colab": {
          "base_uri": "https://localhost:8080/",
          "height": 684
        },
        "id": "m5hTYXHm7wi-",
        "outputId": "577997a3-4907-421c-9760-52d81ce4d884"
      },
      "execution_count": 44,
      "outputs": [
        {
          "output_type": "stream",
          "name": "stdout",
          "text": [
            "Colab notebook detected. To show errors in colab notebook, set `debug=True` in `launch()`\n"
          ]
        },
        {
          "output_type": "stream",
          "name": "stderr",
          "text": [
            "2022-01-22 15:02:04.900 INFO    paramiko.transport: Connected (version 2.0, client OpenSSH_7.6p1)\n",
            "2022-01-22 15:02:05.708 INFO    paramiko.transport: Authentication (publickey) successful!\n"
          ]
        },
        {
          "output_type": "stream",
          "name": "stdout",
          "text": [
            "Running on public URL: https://57143.gradio.app\n",
            "\n",
            "This share link expires in 72 hours. For free permanent hosting, check out Spaces (https://huggingface.co/spaces)\n"
          ]
        },
        {
          "output_type": "display_data",
          "data": {
            "text/html": [
              "\n",
              "        <iframe\n",
              "            width=\"900\"\n",
              "            height=\"500\"\n",
              "            src=\"https://57143.gradio.app\"\n",
              "            frameborder=\"0\"\n",
              "            allowfullscreen\n",
              "        ></iframe>\n",
              "        "
            ],
            "text/plain": [
              "<IPython.lib.display.IFrame at 0x7f42a6185f90>"
            ]
          },
          "metadata": {}
        },
        {
          "output_type": "execute_result",
          "data": {
            "text/plain": [
              "(<fastapi.applications.FastAPI at 0x7f42ad868ed0>,\n",
              " 'http://127.0.0.1:7867/',\n",
              " 'https://57143.gradio.app')"
            ]
          },
          "metadata": {},
          "execution_count": 44
        }
      ]
    }
  ]
}